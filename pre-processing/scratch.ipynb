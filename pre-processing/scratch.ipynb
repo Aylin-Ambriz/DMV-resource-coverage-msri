{
 "cells": [
  {
   "cell_type": "code",
   "execution_count": null,
   "id": "9368ef6c",
   "metadata": {},
   "outputs": [],
   "source": [
    "import pandas as pd\n",
    "\n"
   ]
  },
  {
   "cell_type": "code",
   "execution_count": 2,
   "id": "a88356b2",
   "metadata": {},
   "outputs": [
    {
     "name": "stdout",
     "output_type": "stream",
     "text": [
      "Collecting pandas\n",
      "  Downloading pandas-2.3.1-cp313-cp313-macosx_11_0_arm64.whl.metadata (91 kB)\n",
      "Collecting numpy>=1.26.0 (from pandas)\n",
      "  Using cached numpy-2.3.1-cp313-cp313-macosx_14_0_arm64.whl.metadata (62 kB)\n",
      "Requirement already satisfied: python-dateutil>=2.8.2 in /Users/derekprice/Documents/GitHub/DMV-resource-coverage-msri/.venv/lib/python3.13/site-packages (from pandas) (2.9.0.post0)\n",
      "Collecting pytz>=2020.1 (from pandas)\n",
      "  Using cached pytz-2025.2-py2.py3-none-any.whl.metadata (22 kB)\n",
      "Collecting tzdata>=2022.7 (from pandas)\n",
      "  Using cached tzdata-2025.2-py2.py3-none-any.whl.metadata (1.4 kB)\n",
      "Requirement already satisfied: six>=1.5 in /Users/derekprice/Documents/GitHub/DMV-resource-coverage-msri/.venv/lib/python3.13/site-packages (from python-dateutil>=2.8.2->pandas) (1.17.0)\n",
      "Downloading pandas-2.3.1-cp313-cp313-macosx_11_0_arm64.whl (10.7 MB)\n",
      "\u001b[2K   \u001b[90m━━━━━━━━━━━━━━━━━━━━━━━━━━━━━━━━━━━━━━━━\u001b[0m \u001b[32m10.7/10.7 MB\u001b[0m \u001b[31m26.3 MB/s\u001b[0m eta \u001b[36m0:00:00\u001b[0m \u001b[36m0:00:01\u001b[0m\n",
      "\u001b[?25hUsing cached numpy-2.3.1-cp313-cp313-macosx_14_0_arm64.whl (5.1 MB)\n",
      "Using cached pytz-2025.2-py2.py3-none-any.whl (509 kB)\n",
      "Using cached tzdata-2025.2-py2.py3-none-any.whl (347 kB)\n",
      "Installing collected packages: pytz, tzdata, numpy, pandas\n",
      "\u001b[2K   \u001b[90m━━━━━━━━━━━━━━━━━━━━━━━━━━━━━━━━━━━━━━━━\u001b[0m \u001b[32m4/4\u001b[0m [pandas]2m3/4\u001b[0m [pandas]\n",
      "\u001b[1A\u001b[2KSuccessfully installed numpy-2.3.1 pandas-2.3.1 pytz-2025.2 tzdata-2025.2\n"
     ]
    }
   ],
   "source": [
    "!pip install pandas"
   ]
  },
  {
   "cell_type": "code",
   "execution_count": 5,
   "id": "1d71bd73",
   "metadata": {},
   "outputs": [
    {
     "data": {
      "text/html": [
       "<div>\n",
       "<style scoped>\n",
       "    .dataframe tbody tr th:only-of-type {\n",
       "        vertical-align: middle;\n",
       "    }\n",
       "\n",
       "    .dataframe tbody tr th {\n",
       "        vertical-align: top;\n",
       "    }\n",
       "\n",
       "    .dataframe thead th {\n",
       "        text-align: right;\n",
       "    }\n",
       "</style>\n",
       "<table border=\"1\" class=\"dataframe\">\n",
       "  <thead>\n",
       "    <tr style=\"text-align: right;\">\n",
       "      <th></th>\n",
       "      <th>office_name</th>\n",
       "      <th>address</th>\n",
       "      <th>latitude</th>\n",
       "      <th>longitude</th>\n",
       "      <th>zip_code</th>\n",
       "      <th>zip_area_name</th>\n",
       "      <th>appointment_wait_minutes</th>\n",
       "      <th>walkin_wait_minutes</th>\n",
       "      <th>appointment_wait_str</th>\n",
       "      <th>walkin_wait_str</th>\n",
       "      <th>has_coordinates</th>\n",
       "      <th>processing_date</th>\n",
       "    </tr>\n",
       "  </thead>\n",
       "  <tbody>\n",
       "    <tr>\n",
       "      <th>0</th>\n",
       "      <td>Alturas</td>\n",
       "      <td>903 W C St, Alturas, CA 96101</td>\n",
       "      <td>41.491912</td>\n",
       "      <td>-120.549843</td>\n",
       "      <td>96101</td>\n",
       "      <td>Alturas</td>\n",
       "      <td>0</td>\n",
       "      <td>0</td>\n",
       "      <td>0</td>\n",
       "      <td>0</td>\n",
       "      <td>True</td>\n",
       "      <td>2025-07-06 21:35:31</td>\n",
       "    </tr>\n",
       "    <tr>\n",
       "      <th>1</th>\n",
       "      <td>Arleta</td>\n",
       "      <td>14400 Van Nuys Blvd, Arleta, CA 91331</td>\n",
       "      <td>34.247912</td>\n",
       "      <td>-118.445219</td>\n",
       "      <td>91331</td>\n",
       "      <td>Pacoima</td>\n",
       "      <td>23</td>\n",
       "      <td>79</td>\n",
       "      <td>23</td>\n",
       "      <td>79</td>\n",
       "      <td>True</td>\n",
       "      <td>2025-07-06 21:35:31</td>\n",
       "    </tr>\n",
       "    <tr>\n",
       "      <th>2</th>\n",
       "      <td>Arvin</td>\n",
       "      <td>317 Campus Dr., Arvin, CA 93203</td>\n",
       "      <td>35.211267</td>\n",
       "      <td>-118.833322</td>\n",
       "      <td>93203</td>\n",
       "      <td>Arvin</td>\n",
       "      <td>28</td>\n",
       "      <td>88</td>\n",
       "      <td>28</td>\n",
       "      <td>88</td>\n",
       "      <td>True</td>\n",
       "      <td>2025-07-06 21:35:31</td>\n",
       "    </tr>\n",
       "    <tr>\n",
       "      <th>3</th>\n",
       "      <td>Auburn</td>\n",
       "      <td>11722 Enterprise Dr, Auburn, CA 95603</td>\n",
       "      <td>38.906963</td>\n",
       "      <td>-121.082718</td>\n",
       "      <td>95603</td>\n",
       "      <td>Auburn</td>\n",
       "      <td>0</td>\n",
       "      <td>0</td>\n",
       "      <td>0</td>\n",
       "      <td>0</td>\n",
       "      <td>True</td>\n",
       "      <td>2025-07-06 21:35:31</td>\n",
       "    </tr>\n",
       "    <tr>\n",
       "      <th>4</th>\n",
       "      <td>Bakersfield</td>\n",
       "      <td>3120 F Street, Bakersfield, CA 93301</td>\n",
       "      <td>35.387808</td>\n",
       "      <td>-119.023347</td>\n",
       "      <td>93301</td>\n",
       "      <td>Bakersfield</td>\n",
       "      <td>27</td>\n",
       "      <td>80</td>\n",
       "      <td>27</td>\n",
       "      <td>80</td>\n",
       "      <td>True</td>\n",
       "      <td>2025-07-06 21:35:31</td>\n",
       "    </tr>\n",
       "    <tr>\n",
       "      <th>...</th>\n",
       "      <td>...</td>\n",
       "      <td>...</td>\n",
       "      <td>...</td>\n",
       "      <td>...</td>\n",
       "      <td>...</td>\n",
       "      <td>...</td>\n",
       "      <td>...</td>\n",
       "      <td>...</td>\n",
       "      <td>...</td>\n",
       "      <td>...</td>\n",
       "      <td>...</td>\n",
       "      <td>...</td>\n",
       "    </tr>\n",
       "    <tr>\n",
       "      <th>171</th>\n",
       "      <td>Willows</td>\n",
       "      <td>815 N. Humboldt Avenue, Willows, CA 95988</td>\n",
       "      <td>39.529024</td>\n",
       "      <td>-122.211949</td>\n",
       "      <td>95988</td>\n",
       "      <td>Willows</td>\n",
       "      <td>0</td>\n",
       "      <td>0</td>\n",
       "      <td>0</td>\n",
       "      <td>0</td>\n",
       "      <td>True</td>\n",
       "      <td>2025-07-06 21:35:33</td>\n",
       "    </tr>\n",
       "    <tr>\n",
       "      <th>172</th>\n",
       "      <td>Winnetka</td>\n",
       "      <td>20725 Sherman Way, Winnetka, CA 91306</td>\n",
       "      <td>34.201248</td>\n",
       "      <td>-118.584703</td>\n",
       "      <td>91306</td>\n",
       "      <td>Winnetka</td>\n",
       "      <td>21</td>\n",
       "      <td>75</td>\n",
       "      <td>21</td>\n",
       "      <td>75</td>\n",
       "      <td>True</td>\n",
       "      <td>2025-07-06 21:35:33</td>\n",
       "    </tr>\n",
       "    <tr>\n",
       "      <th>173</th>\n",
       "      <td>Woodland</td>\n",
       "      <td>825 East St, Suite 306, CA 95776</td>\n",
       "      <td>38.662600</td>\n",
       "      <td>-121.764500</td>\n",
       "      <td>95776</td>\n",
       "      <td>Woodland</td>\n",
       "      <td>0</td>\n",
       "      <td>0</td>\n",
       "      <td>0</td>\n",
       "      <td>0</td>\n",
       "      <td>True</td>\n",
       "      <td>2025-07-06 21:35:33</td>\n",
       "    </tr>\n",
       "    <tr>\n",
       "      <th>174</th>\n",
       "      <td>Yreka</td>\n",
       "      <td>1848 Fort Jones Rd, Yreka, CA 96097</td>\n",
       "      <td>41.701709</td>\n",
       "      <td>-122.646070</td>\n",
       "      <td>96097</td>\n",
       "      <td>Yreka</td>\n",
       "      <td>0</td>\n",
       "      <td>0</td>\n",
       "      <td>0</td>\n",
       "      <td>0</td>\n",
       "      <td>True</td>\n",
       "      <td>2025-07-06 21:35:33</td>\n",
       "    </tr>\n",
       "    <tr>\n",
       "      <th>175</th>\n",
       "      <td>Yuba City</td>\n",
       "      <td>1570 Poole Boulevard, Yuba City, CA 95993</td>\n",
       "      <td>39.144627</td>\n",
       "      <td>-121.642774</td>\n",
       "      <td>95993</td>\n",
       "      <td>Yuba City</td>\n",
       "      <td>0</td>\n",
       "      <td>0</td>\n",
       "      <td>0</td>\n",
       "      <td>0</td>\n",
       "      <td>True</td>\n",
       "      <td>2025-07-06 21:35:33</td>\n",
       "    </tr>\n",
       "  </tbody>\n",
       "</table>\n",
       "<p>176 rows × 12 columns</p>\n",
       "</div>"
      ],
      "text/plain": [
       "     office_name                                    address   latitude  \\\n",
       "0        Alturas              903 W C St, Alturas, CA 96101  41.491912   \n",
       "1         Arleta      14400 Van Nuys Blvd, Arleta, CA 91331  34.247912   \n",
       "2          Arvin            317 Campus Dr., Arvin, CA 93203  35.211267   \n",
       "3         Auburn      11722 Enterprise Dr, Auburn, CA 95603  38.906963   \n",
       "4    Bakersfield       3120 F Street, Bakersfield, CA 93301  35.387808   \n",
       "..           ...                                        ...        ...   \n",
       "171      Willows  815 N. Humboldt Avenue, Willows, CA 95988  39.529024   \n",
       "172     Winnetka      20725 Sherman Way, Winnetka, CA 91306  34.201248   \n",
       "173     Woodland           825 East St, Suite 306, CA 95776  38.662600   \n",
       "174        Yreka        1848 Fort Jones Rd, Yreka, CA 96097  41.701709   \n",
       "175    Yuba City  1570 Poole Boulevard, Yuba City, CA 95993  39.144627   \n",
       "\n",
       "      longitude  zip_code zip_area_name  appointment_wait_minutes  \\\n",
       "0   -120.549843     96101       Alturas                         0   \n",
       "1   -118.445219     91331       Pacoima                        23   \n",
       "2   -118.833322     93203         Arvin                        28   \n",
       "3   -121.082718     95603        Auburn                         0   \n",
       "4   -119.023347     93301   Bakersfield                        27   \n",
       "..          ...       ...           ...                       ...   \n",
       "171 -122.211949     95988       Willows                         0   \n",
       "172 -118.584703     91306      Winnetka                        21   \n",
       "173 -121.764500     95776      Woodland                         0   \n",
       "174 -122.646070     96097         Yreka                         0   \n",
       "175 -121.642774     95993     Yuba City                         0   \n",
       "\n",
       "     walkin_wait_minutes  appointment_wait_str  walkin_wait_str  \\\n",
       "0                      0                     0                0   \n",
       "1                     79                    23               79   \n",
       "2                     88                    28               88   \n",
       "3                      0                     0                0   \n",
       "4                     80                    27               80   \n",
       "..                   ...                   ...              ...   \n",
       "171                    0                     0                0   \n",
       "172                   75                    21               75   \n",
       "173                    0                     0                0   \n",
       "174                    0                     0                0   \n",
       "175                    0                     0                0   \n",
       "\n",
       "     has_coordinates      processing_date  \n",
       "0               True  2025-07-06 21:35:31  \n",
       "1               True  2025-07-06 21:35:31  \n",
       "2               True  2025-07-06 21:35:31  \n",
       "3               True  2025-07-06 21:35:31  \n",
       "4               True  2025-07-06 21:35:31  \n",
       "..               ...                  ...  \n",
       "171             True  2025-07-06 21:35:33  \n",
       "172             True  2025-07-06 21:35:33  \n",
       "173             True  2025-07-06 21:35:33  \n",
       "174             True  2025-07-06 21:35:33  \n",
       "175             True  2025-07-06 21:35:33  \n",
       "\n",
       "[176 rows x 12 columns]"
      ]
     },
     "execution_count": 5,
     "metadata": {},
     "output_type": "execute_result"
    }
   ],
   "source": [
    "import pandas as pd\n",
    "\n",
    "df = pd.read_csv('output/dmv_offices_details.csv')\n",
    "\n",
    "\n",
    "\n",
    "\n",
    "\n",
    "\n",
    "\n",
    "\n",
    "\n",
    "df\n",
    "\n"
   ]
  },
  {
   "cell_type": "code",
   "execution_count": 9,
   "id": "18426482",
   "metadata": {},
   "outputs": [
    {
     "data": {
      "text/plain": [
       "176"
      ]
     },
     "execution_count": 9,
     "metadata": {},
     "output_type": "execute_result"
    }
   ],
   "source": [
    "len(df)"
   ]
  },
  {
   "cell_type": "code",
   "execution_count": null,
   "id": "c4e225c7",
   "metadata": {},
   "outputs": [],
   "source": []
  },
  {
   "cell_type": "code",
   "execution_count": null,
   "id": "a8b27e3b",
   "metadata": {},
   "outputs": [],
   "source": [
    "closed_DMVs = [\n",
    "\"banning\"\n",
    "\"capitola\"\n",
    "\"walnut creek\"\n",
    "\"santa maria\"\n",
    "\"san-jose dlpc\"\n",
    "\"inglewood\"\n",
    "\"pacoima-dl\"\n",
    "\"oakland-coliseum\"\n",
    "\"laguna hills\"\n",
    "]\n",
    "filtered_DMV = df[~df['office_name'].isin(closed_DMVs)]"
   ]
  },
  {
   "cell_type": "code",
   "execution_count": 10,
   "id": "e13c67f8",
   "metadata": {},
   "outputs": [
    {
     "data": {
      "text/plain": [
       "176"
      ]
     },
     "execution_count": 10,
     "metadata": {},
     "output_type": "execute_result"
    }
   ],
   "source": [
    "len(filtered_DMV)"
   ]
  },
  {
   "cell_type": "code",
   "execution_count": null,
   "id": "39d8f66d",
   "metadata": {},
   "outputs": [],
   "source": []
  },
  {
   "cell_type": "code",
   "execution_count": null,
   "id": "04d850cf",
   "metadata": {},
   "outputs": [],
   "source": []
  },
  {
   "cell_type": "code",
   "execution_count": null,
   "id": "d929a168",
   "metadata": {},
   "outputs": [],
   "source": []
  },
  {
   "cell_type": "code",
   "execution_count": null,
   "id": "a46eac85",
   "metadata": {},
   "outputs": [],
   "source": []
  },
  {
   "cell_type": "code",
   "execution_count": null,
   "id": "8d09fe47",
   "metadata": {},
   "outputs": [],
   "source": []
  },
  {
   "cell_type": "code",
   "execution_count": null,
   "id": "a99f6a42",
   "metadata": {},
   "outputs": [],
   "source": []
  },
  {
   "cell_type": "code",
   "execution_count": null,
   "id": "80b599a4",
   "metadata": {},
   "outputs": [],
   "source": []
  },
  {
   "cell_type": "code",
   "execution_count": null,
   "id": "80b1b9a0",
   "metadata": {},
   "outputs": [],
   "source": []
  },
  {
   "cell_type": "code",
   "execution_count": null,
   "id": "03ecce2f",
   "metadata": {},
   "outputs": [],
   "source": []
  },
  {
   "cell_type": "code",
   "execution_count": null,
   "id": "4da4fda5",
   "metadata": {},
   "outputs": [],
   "source": []
  },
  {
   "cell_type": "code",
   "execution_count": null,
   "id": "89dde4e3",
   "metadata": {},
   "outputs": [],
   "source": []
  },
  {
   "cell_type": "code",
   "execution_count": 34,
   "id": "29a4c39e",
   "metadata": {},
   "outputs": [
    {
     "data": {
      "text/plain": [
       "2"
      ]
     },
     "execution_count": 34,
     "metadata": {},
     "output_type": "execute_result"
    }
   ],
   "source": [
    "max(df.groupby('zip_code').size())\n"
   ]
  },
  {
   "cell_type": "code",
   "execution_count": null,
   "id": "1c45c79c",
   "metadata": {},
   "outputs": [],
   "source": []
  },
  {
   "cell_type": "code",
   "execution_count": null,
   "id": "c34e09f6",
   "metadata": {},
   "outputs": [],
   "source": []
  },
  {
   "cell_type": "code",
   "execution_count": null,
   "id": "06db2103",
   "metadata": {},
   "outputs": [],
   "source": []
  },
  {
   "cell_type": "code",
   "execution_count": null,
   "id": "ff575d95",
   "metadata": {},
   "outputs": [],
   "source": []
  },
  {
   "cell_type": "code",
   "execution_count": null,
   "id": "4a367f9a",
   "metadata": {},
   "outputs": [],
   "source": []
  },
  {
   "cell_type": "code",
   "execution_count": null,
   "id": "d5229262",
   "metadata": {},
   "outputs": [],
   "source": []
  },
  {
   "cell_type": "code",
   "execution_count": null,
   "id": "0cf1b35a",
   "metadata": {},
   "outputs": [],
   "source": []
  },
  {
   "cell_type": "code",
   "execution_count": null,
   "id": "6a517219",
   "metadata": {},
   "outputs": [],
   "source": []
  },
  {
   "cell_type": "code",
   "execution_count": null,
   "id": "2730e9d5",
   "metadata": {},
   "outputs": [],
   "source": []
  },
  {
   "cell_type": "code",
   "execution_count": null,
   "id": "ad060866",
   "metadata": {},
   "outputs": [],
   "source": []
  },
  {
   "cell_type": "code",
   "execution_count": null,
   "id": "7323b8a5",
   "metadata": {},
   "outputs": [],
   "source": []
  },
  {
   "cell_type": "code",
   "execution_count": null,
   "id": "a8b0d214",
   "metadata": {},
   "outputs": [],
   "source": []
  },
  {
   "cell_type": "code",
   "execution_count": null,
   "id": "b3212abe",
   "metadata": {},
   "outputs": [],
   "source": []
  },
  {
   "cell_type": "code",
   "execution_count": null,
   "id": "54c30c89",
   "metadata": {},
   "outputs": [],
   "source": []
  }
 ],
 "metadata": {
  "kernelspec": {
   "display_name": ".venv",
   "language": "python",
   "name": "python3"
  },
  "language_info": {
   "codemirror_mode": {
    "name": "ipython",
    "version": 3
   },
   "file_extension": ".py",
   "mimetype": "text/x-python",
   "name": "python",
   "nbconvert_exporter": "python",
   "pygments_lexer": "ipython3",
   "version": "3.13.5"
  }
 },
 "nbformat": 4,
 "nbformat_minor": 5
}
