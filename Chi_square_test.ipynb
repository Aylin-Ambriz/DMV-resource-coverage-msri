{
 "cells": [
  {
   "cell_type": "code",
   "execution_count": 1,
   "id": "6b6bbae7",
   "metadata": {},
   "outputs": [
    {
     "name": "stdout",
     "output_type": "stream",
     "text": [
      "Chi-square Statistic: 39898.161012225115\n",
      "Degrees of Freedom: 6\n",
      "p-value: 0.0\n"
     ]
    }
   ],
   "source": [
    "import pandas as pd\n",
    "from scipy.stats import chi2_contingency\n",
    "\n",
    "# Load the contingency table from CSV\n",
    "contingency_table = pd.read_csv(\"Chi-Square_Contingency_Table.csv\", index_col=0)\n",
    "\n",
    "# Run the chi-square test\n",
    "chi2_stat, p_value, dof, expected = chi2_contingency(contingency_table)\n",
    "\n",
    "# Output results\n",
    "print(\"Chi-square Statistic:\", chi2_stat)\n",
    "print(\"Degrees of Freedom:\", dof)\n",
    "print(\"p-value:\", p_value)\n"
   ]
  },
  {
   "cell_type": "code",
   "execution_count": 2,
   "id": "601422a9",
   "metadata": {},
   "outputs": [
    {
     "name": "stdout",
     "output_type": "stream",
     "text": [
      "Chi-square Statistic: 39898.161012225114973\n",
      "Degrees of Freedom: 6\n",
      "p-value: 0.00000000000000000000\n"
     ]
    }
   ],
   "source": [
    "print(f\"Chi-square Statistic: {chi2_stat:.15f}\")\n",
    "print(f\"Degrees of Freedom: {dof}\")\n",
    "print(f\"p-value: {p_value:.20f}\")\n"
   ]
  },
  {
   "cell_type": "code",
   "execution_count": 4,
   "id": "b52353aa",
   "metadata": {},
   "outputs": [
    {
     "name": "stdout",
     "output_type": "stream",
     "text": [
      "Chi-square Statistic: 30393.3253\n",
      "Degrees of Freedom: 4\n",
      "p-value: 0.00e+00\n"
     ]
    }
   ],
   "source": [
    "import pandas as pd\n",
    "from scipy.stats import chi2_contingency\n",
    "\n",
    "# Load the contingency table\n",
    "contingency_df = pd.read_csv(\"Hispanic_vs_Not_Hispanic_Contingency_Table.csv\", index_col=0)\n",
    "\n",
    "# Ensure numeric values\n",
    "contingency_df = contingency_df.apply(pd.to_numeric, errors='coerce')\n",
    "\n",
    "# Perform chi-square test\n",
    "chi2_stat, p_value, dof, expected = chi2_contingency(contingency_df)\n",
    "\n",
    "# Print results\n",
    "print(f\"Chi-square Statistic: {chi2_stat:.4f}\")\n",
    "print(f\"Degrees of Freedom: {dof}\")\n",
    "print(f\"p-value: {p_value:.2e}\")\n"
   ]
  },
  {
   "cell_type": "code",
   "execution_count": 5,
   "id": "5d594792",
   "metadata": {},
   "outputs": [
    {
     "name": "stdout",
     "output_type": "stream",
     "text": [
      "                     Not Hispanic  Hispanic  Unnamed: 3\n",
      "Not Underserved (1)       6451746   3881207    10332953\n",
      "Underserved (0)          17130657  11735825    28866482\n",
      "NaN                      23582403  15617032    39199435\n",
      "(3, 3)\n"
     ]
    }
   ],
   "source": [
    "import pandas as pd\n",
    "\n",
    "df = pd.read_csv(\"Hispanic_vs_Not_Hispanic_Contingency_Table.csv\", index_col=0)\n",
    "print(df)\n",
    "print(df.shape)"
   ]
  }
 ],
 "metadata": {
  "kernelspec": {
   "display_name": "base",
   "language": "python",
   "name": "python3"
  },
  "language_info": {
   "codemirror_mode": {
    "name": "ipython",
    "version": 3
   },
   "file_extension": ".py",
   "mimetype": "text/x-python",
   "name": "python",
   "nbconvert_exporter": "python",
   "pygments_lexer": "ipython3",
   "version": "3.13.5"
  }
 },
 "nbformat": 4,
 "nbformat_minor": 5
}
