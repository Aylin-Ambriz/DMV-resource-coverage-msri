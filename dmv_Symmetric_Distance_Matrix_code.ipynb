{
 "cells": [
  {
   "cell_type": "code",
   "execution_count": null,
   "id": "48574794",
   "metadata": {},
   "outputs": [],
   "source": [
    "import pandas as pd\n",
    "import numpy as np\n",
    "\n",
    "# === Load data ===\n",
    "details_df = pd.read_csv(\"dmv_offices_details.csv\")  # Contains office names and zip codes\n",
    "travel_matrix_df = pd.read_csv(\"dmv_travel_matrix.csv\", index_col=0)  # d̃(x,y) travel-time matrix\n",
    "population_df = pd.read_csv(\"dmv_offices_with_population.csv\")  # Zip-level population\n",
    "\n",
    "# === Prepare the population lookup ===\n",
    "zip_pop_dict = dict(zip(population_df['zip_code'].astype(str), population_df['population']))\n",
    "\n",
    "# === Define the symmetric distance matrix function ===\n",
    "def calc_dmv_d_matrix(dtilde_df, dmv_details_df, zip_pop_dict):\n",
    "    office_names = dmv_details_df['office_name'].tolist()\n",
    "    N = len(office_names)\n",
    "    d_matrix = np.zeros((N, N))\n",
    "    \n",
    "    # Ensure the travel matrix is aligned with office names\n",
    "    dtilde = dtilde_df.loc[office_names, office_names].values\n",
    "    zip_codes = dmv_details_df['zip_code'].astype(str).tolist()\n",
    "    \n",
    "    for i in range(N):\n",
    "        for j in range(N):\n",
    "            if i != j:\n",
    "                zipi = zip_codes[i]\n",
    "                zipj = zip_codes[j]\n",
    "                popi = zip_pop_dict.get(zipi, 0)\n",
    "                popj = zip_pop_dict.get(zipj, 0)\n",
    "                if popi == 0 and popj == 0:\n",
    "                    d_matrix[i, j] = 0\n",
    "                elif popi == 0:\n",
    "                    d_matrix[i, j] = dtilde[j, i]\n",
    "                elif popj == 0:\n",
    "                    d_matrix[i, j] = dtilde[i, j]\n",
    "                else:\n",
    "                    d_matrix[i, j] = (popj * dtilde[i, j] + popi * dtilde[j, i]) / (popi + popj)\n",
    "    return d_matrix\n"
   ]
  }
 ],
 "metadata": {
  "language_info": {
   "name": "python"
  }
 },
 "nbformat": 4,
 "nbformat_minor": 5
}
